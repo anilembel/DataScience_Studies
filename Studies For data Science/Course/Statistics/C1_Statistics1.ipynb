{
 "cells": [
  {
   "cell_type": "markdown",
   "metadata": {},
   "source": [
    "ScatterPlot"
   ]
  },
  {
   "cell_type": "code",
   "execution_count": null,
   "metadata": {},
   "outputs": [],
   "source": [
    "import numpy as np\n",
    "from scipy import stats \n",
    "\n",
    "salary = [102, 33, 26, 27, 30, 25, 33, 33, 24]\n"
   ]
  },
  {
   "cell_type": "code",
   "execution_count": 1,
   "metadata": {},
   "outputs": [
    {
     "ename": "NameError",
     "evalue": "name 'np' is not defined",
     "output_type": "error",
     "traceback": [
      "\u001b[0;31m---------------------------------------------------------------------------\u001b[0m",
      "\u001b[0;31mNameError\u001b[0m                                 Traceback (most recent call last)",
      "\u001b[1;32m/Users/anilfurkanembel/Desktop/Python for data science/C1_Statistics1 copy.ipynb Cell 3'\u001b[0m in \u001b[0;36m<module>\u001b[0;34m\u001b[0m\n\u001b[1;32m      <a href='vscode-notebook-cell:/Users/anilfurkanembel/Desktop/Python%20for%20data%20science/C1_Statistics1%20copy.ipynb#ch0000002?line=0'>1</a>\u001b[0m salary \u001b[39m=\u001b[39m [\u001b[39m102\u001b[39m, \u001b[39m33\u001b[39m, \u001b[39m26\u001b[39m, \u001b[39m27\u001b[39m, \u001b[39m30\u001b[39m, \u001b[39m25\u001b[39m, \u001b[39m33\u001b[39m, \u001b[39m33\u001b[39m, \u001b[39m24\u001b[39m]\n\u001b[0;32m----> <a href='vscode-notebook-cell:/Users/anilfurkanembel/Desktop/Python%20for%20data%20science/C1_Statistics1%20copy.ipynb#ch0000002?line=2'>3</a>\u001b[0m mean_salary \u001b[39m=\u001b[39m np\u001b[39m.\u001b[39mmean(salary)\n\u001b[1;32m      <a href='vscode-notebook-cell:/Users/anilfurkanembel/Desktop/Python%20for%20data%20science/C1_Statistics1%20copy.ipynb#ch0000002?line=3'>4</a>\u001b[0m \u001b[39mprint\u001b[39m(\u001b[39m\"\u001b[39m\u001b[39mmean:\u001b[39m\u001b[39m\"\u001b[39m, mean_salary)\n\u001b[1;32m      <a href='vscode-notebook-cell:/Users/anilfurkanembel/Desktop/Python%20for%20data%20science/C1_Statistics1%20copy.ipynb#ch0000002?line=5'>6</a>\u001b[0m median_salary \u001b[39m=\u001b[39m np\u001b[39m.\u001b[39mmedian(salary)\n",
      "\u001b[0;31mNameError\u001b[0m: name 'np' is not defined"
     ]
    }
   ],
   "source": [
    "\n",
    "salary = [102, 33, 26, 27, 30, 25, 33, 33, 24]\n",
    "\n",
    "mean_salary = np.mean(salary)\n",
    "print(\"mean:\", mean_salary)\n",
    "\n",
    "median_salary = np.median(salary)\n",
    "print(\"median:\", median_salary)\n",
    "\n",
    "mode_salary = stats.mode(salary)\n",
    "print(\"mode:\", mode_salary)\n"
   ]
  },
  {
   "cell_type": "code",
   "execution_count": 3,
   "metadata": {},
   "outputs": [
    {
     "name": "stdout",
     "output_type": "stream",
     "text": [
      "Collecting seaborn\n",
      "  Downloading seaborn-0.11.2-py3-none-any.whl (292 kB)\n",
      "\u001b[K     |████████████████████████████████| 292 kB 1.4 MB/s eta 0:00:01\n",
      "\u001b[?25hRequirement already satisfied: numpy>=1.15 in /Library/Frameworks/Python.framework/Versions/3.10/lib/python3.10/site-packages (from seaborn) (1.22.3)\n",
      "Requirement already satisfied: scipy>=1.0 in /Library/Frameworks/Python.framework/Versions/3.10/lib/python3.10/site-packages (from seaborn) (1.8.0)\n",
      "Collecting pandas>=0.23\n",
      "  Downloading pandas-1.4.2-cp310-cp310-macosx_11_0_arm64.whl (10.1 MB)\n",
      "\u001b[K     |████████████████████████████████| 10.1 MB 2.0 MB/s eta 0:00:01\n",
      "\u001b[?25hCollecting matplotlib>=2.2\n",
      "  Downloading matplotlib-3.5.1-cp310-cp310-macosx_11_0_arm64.whl (7.2 MB)\n",
      "\u001b[K     |████████████████████████████████| 7.2 MB 1.5 MB/s eta 0:00:01\n",
      "\u001b[?25hCollecting pillow>=6.2.0\n",
      "  Downloading Pillow-9.1.0-cp310-cp310-macosx_11_0_arm64.whl (2.8 MB)\n",
      "\u001b[K     |████████████████████████████████| 2.8 MB 2.2 MB/s eta 0:00:01\n",
      "\u001b[?25hCollecting fonttools>=4.22.0\n",
      "  Downloading fonttools-4.33.1-py3-none-any.whl (930 kB)\n",
      "\u001b[K     |████████████████████████████████| 930 kB 1.6 MB/s eta 0:00:01\n",
      "\u001b[?25hRequirement already satisfied: python-dateutil>=2.7 in /Library/Frameworks/Python.framework/Versions/3.10/lib/python3.10/site-packages (from matplotlib>=2.2->seaborn) (2.8.2)\n",
      "Collecting cycler>=0.10\n",
      "  Downloading cycler-0.11.0-py3-none-any.whl (6.4 kB)\n",
      "Requirement already satisfied: packaging>=20.0 in /Library/Frameworks/Python.framework/Versions/3.10/lib/python3.10/site-packages (from matplotlib>=2.2->seaborn) (21.3)\n",
      "Requirement already satisfied: pyparsing>=2.2.1 in /Library/Frameworks/Python.framework/Versions/3.10/lib/python3.10/site-packages (from matplotlib>=2.2->seaborn) (3.0.7)\n",
      "Collecting kiwisolver>=1.0.1\n",
      "  Downloading kiwisolver-1.4.2-cp310-cp310-macosx_11_0_arm64.whl (63 kB)\n",
      "\u001b[K     |████████████████████████████████| 63 kB 2.6 MB/s eta 0:00:01\n",
      "\u001b[?25hCollecting pytz>=2020.1\n",
      "  Downloading pytz-2022.1-py2.py3-none-any.whl (503 kB)\n",
      "\u001b[K     |████████████████████████████████| 503 kB 4.7 MB/s eta 0:00:01\n",
      "\u001b[?25hRequirement already satisfied: six>=1.5 in /Library/Frameworks/Python.framework/Versions/3.10/lib/python3.10/site-packages (from python-dateutil>=2.7->matplotlib>=2.2->seaborn) (1.16.0)\n",
      "Installing collected packages: pytz, pillow, kiwisolver, fonttools, cycler, pandas, matplotlib, seaborn\n",
      "Successfully installed cycler-0.11.0 fonttools-4.33.1 kiwisolver-1.4.2 matplotlib-3.5.1 pandas-1.4.2 pillow-9.1.0 pytz-2022.1 seaborn-0.11.2\n",
      "\u001b[33mWARNING: You are using pip version 21.2.4; however, version 22.0.4 is available.\n",
      "You should consider upgrading via the '/usr/local/bin/python3 -m pip install --upgrade pip' command.\u001b[0m\n",
      "Note: you may need to restart the kernel to use updated packages.\n"
     ]
    }
   ],
   "source": [
    "pip install seaborn"
   ]
  },
  {
   "cell_type": "code",
   "execution_count": null,
   "metadata": {},
   "outputs": [],
   "source": []
  }
 ],
 "metadata": {
  "interpreter": {
   "hash": "aee8b7b246df8f9039afb4144a1f6fd8d2ca17a180786b69acc140d282b71a49"
  },
  "kernelspec": {
   "display_name": "Python 3.10.1 64-bit",
   "language": "python",
   "name": "python3"
  },
  "language_info": {
   "codemirror_mode": {
    "name": "ipython",
    "version": 3
   },
   "file_extension": ".py",
   "mimetype": "text/x-python",
   "name": "python",
   "nbconvert_exporter": "python",
   "pygments_lexer": "ipython3",
   "version": "3.10.1"
  },
  "orig_nbformat": 4
 },
 "nbformat": 4,
 "nbformat_minor": 2
}
